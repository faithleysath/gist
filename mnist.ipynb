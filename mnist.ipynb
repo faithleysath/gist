{
 "cells": [
  {
   "cell_type": "markdown",
   "metadata": {},
   "source": [
    "# 手写数字识别"
   ]
  },
  {
   "cell_type": "markdown",
   "metadata": {},
   "source": [
    "## 模型构建"
   ]
  },
  {
   "cell_type": "markdown",
   "metadata": {},
   "source": [
    "- 使用双层MLP模型"
   ]
  },
  {
   "cell_type": "code",
   "execution_count": null,
   "metadata": {},
   "outputs": [],
   "source": [
    "import torch\n",
    "from torch import nn\n",
    "\n",
    "num_input = 28 * 28\n",
    "num_output = 10\n",
    "num_hidden = 256\n",
    "\n",
    "mlp = nn.Sequential(nn.Flatten(), \n",
    "                    nn.Linear(num_input, num_hidden), \n",
    "                    nn.ReLU(), \n",
    "                    nn.Linear(num_hidden, num_output))"
   ]
  },
  {
   "cell_type": "markdown",
   "metadata": {},
   "source": [
    "- 使用CNN模型"
   ]
  },
  {
   "cell_type": "code",
   "execution_count": null,
   "metadata": {},
   "outputs": [],
   "source": [
    "cnn = nn.Sequential(nn.Conv2d(1, 1, kernel_size=3, padding=1), \n",
    "                    nn.ReLU(), \n",
    "                    nn.MaxPool2d(kernel_size=2, stride=2), \n",
    "                    nn.Conv2d(1, 1, kernel_size=3, padding=1), \n",
    "                    nn.ReLU(), \n",
    "                    nn.MaxPool2d(kernel_size=2, stride=2), \n",
    "                    nn.Flatten(), \n",
    "                    nn.Linear(49, 10))"
   ]
  },
  {
   "cell_type": "markdown",
   "metadata": {},
   "source": [
    "## 数据集"
   ]
  },
  {
   "cell_type": "code",
   "execution_count": null,
   "metadata": {},
   "outputs": [],
   "source": [
    "from torchvision.datasets import MNIST\n",
    "from torchvision import transforms\n",
    "from torch.utils.data import DataLoader\n",
    "\n",
    "mnist_train = MNIST(root='./data', train=True, transform=transforms.ToTensor(), download=True)\n",
    "mnist_test = MNIST(root='./data', train=False, transform=transforms.ToTensor(), download=True)\n",
    "\n",
    "train_loader = DataLoader(mnist_train, batch_size=100, shuffle=True)\n",
    "test_loader = DataLoader(mnist_test, batch_size=100, shuffle=False)"
   ]
  },
  {
   "cell_type": "markdown",
   "metadata": {},
   "source": [
    "## 训练"
   ]
  },
  {
   "cell_type": "code",
   "execution_count": null,
   "metadata": {},
   "outputs": [],
   "source": [
    "from d2l import torch as d2l\n",
    "def ecvaluate_accuracy(data_iter, net, device=torch.device('cpu')):\n",
    "    if isinstance(net, torch.nn.Module):\n",
    "        net.eval()\n",
    "    metric = d2l.Accumulator(2)\n",
    "    for X, y in data_iter:\n",
    "        X, y = X.to(device), y.to(device)\n",
    "        metric.add(d2l.accuracy(net(X), y), y.numel())\n",
    "    return metric[0] / metric[1]\n",
    "\n",
    "def train(model, train_loader, test_loader, loss_fn, optimizer, num_epochs=10, device=torch.device('cpu')):\n",
    "    animator = d2l.Animator(xlabel='epoch', xlim=[1, num_epochs], legend=['train loss', 'train acc', 'test acc'])\n",
    "    model.to(device)\n",
    "    for epoch in range(num_epochs):\n",
    "        model.train()\n",
    "        train_loss, train_acc, n = 0.0, 0.0, 0\n",
    "        for X, y in train_loader:\n",
    "            X, y = X.to(device), y.to(device)\n",
    "            optimizer.zero_grad()\n",
    "            y_hat = model(X)\n",
    "            loss = loss_fn(y_hat, y)\n",
    "            loss.backward()\n",
    "            optimizer.step()\n",
    "            train_loss += loss.item()\n",
    "            train_acc += (y_hat.argmax(axis=1) == y).sum().item()\n",
    "            n += y.shape[0]\n",
    "        animator.add(epoch + 1, (train_loss / n, train_acc / n, ecvaluate_accuracy(test_loader, model, device)))"
   ]
  },
  {
   "cell_type": "code",
   "execution_count": null,
   "metadata": {},
   "outputs": [],
   "source": [
    "train(mlp, train_loader, test_loader, nn.CrossEntropyLoss(), torch.optim.SGD(mlp.parameters(), lr=0.1), 10, torch.device('cuda' if torch.cuda.is_available() else 'cpu'))\n",
    "train(cnn, train_loader, test_loader, nn.CrossEntropyLoss(), torch.optim.SGD(cnn.parameters(), lr=0.1), 10, torch.device('cuda' if torch.cuda.is_available() else 'cpu'))\n",
    "# 保存模型\n",
    "torch.save(mlp.state_dict(), 'mlp.params')\n",
    "torch.save(cnn.state_dict(), 'cnn.params')"
   ]
  },
  {
   "cell_type": "markdown",
   "metadata": {},
   "source": [
    "## 预测"
   ]
  },
  {
   "cell_type": "markdown",
   "metadata": {},
   "source": [
    "加载模型"
   ]
  },
  {
   "cell_type": "code",
   "execution_count": 8,
   "metadata": {},
   "outputs": [
    {
     "data": {
      "text/plain": [
       "<All keys matched successfully>"
      ]
     },
     "execution_count": 8,
     "metadata": {},
     "output_type": "execute_result"
    }
   ],
   "source": [
    "import torch\n",
    "from torch import nn\n",
    "\n",
    "num_input = 28 * 28\n",
    "num_output = 10\n",
    "num_hidden = 256\n",
    "\n",
    "mlp = nn.Sequential(nn.Flatten(), \n",
    "                    nn.Linear(num_input, num_hidden), \n",
    "                    nn.ReLU(), \n",
    "                    nn.Linear(num_hidden, num_output))\n",
    "cnn = nn.Sequential(nn.Conv2d(1, 1, kernel_size=3, padding=1), \n",
    "                    nn.ReLU(), \n",
    "                    nn.MaxPool2d(kernel_size=2, stride=2), \n",
    "                    nn.Conv2d(1, 1, kernel_size=3, padding=1), \n",
    "                    nn.ReLU(), \n",
    "                    nn.MaxPool2d(kernel_size=2, stride=2), \n",
    "                    nn.Flatten(), \n",
    "                    nn.Linear(49, 10))\n",
    "\n",
    "# 加载模型\n",
    "mlp.load_state_dict(torch.load('mlp.params'))\n",
    "cnn.load_state_dict(torch.load('cnn.params'))"
   ]
  },
  {
   "cell_type": "markdown",
   "metadata": {},
   "source": [
    "定义预测函数"
   ]
  },
  {
   "cell_type": "code",
   "execution_count": 9,
   "metadata": {},
   "outputs": [],
   "source": [
    "from torchvision import transforms\n",
    "\n",
    "def predict(img, model):\n",
    "    preprocess = transforms.Compose([\n",
    "        transforms.Grayscale(num_output_channels=1),\n",
    "        transforms.Resize((28, 28)),\n",
    "        transforms.ToTensor(),\n",
    "    ])\n",
    "    X = preprocess(img).unsqueeze(0)\n",
    "    if X.mean() > 0.5: # 如果是黑底白字，进行反色\n",
    "        X = 1 - X\n",
    "    return model(X).argmax(axis=1).item()"
   ]
  },
  {
   "cell_type": "markdown",
   "metadata": {},
   "source": [
    "测试"
   ]
  },
  {
   "cell_type": "code",
   "execution_count": 10,
   "metadata": {},
   "outputs": [
    {
     "name": "stdout",
     "output_type": "stream",
     "text": [
      "3\n"
     ]
    }
   ],
   "source": [
    "# 读取图片\n",
    "from PIL import Image\n",
    "img = Image.open('./image.png')\n",
    "print(predict(img, cnn))"
   ]
  },
  {
   "cell_type": "markdown",
   "metadata": {},
   "source": [
    "绘制一个GUI界面，用于手写数字输入"
   ]
  },
  {
   "cell_type": "code",
   "execution_count": 12,
   "metadata": {},
   "outputs": [],
   "source": [
    "import tkinter as tk\n",
    "from tkinter import messagebox\n",
    "from PIL import Image, ImageDraw\n",
    "\n",
    "class DigitCanvas:\n",
    "    def __init__(self, SIZE, master, model, bold=10):\n",
    "        self.master = master\n",
    "        self.model = model\n",
    "        self.size = SIZE\n",
    "        self.bold = bold\n",
    "        self.canvas = tk.Canvas(self.master, width=SIZE[0], height=SIZE[1], bg='white')\n",
    "        self.canvas.pack()\n",
    "        self.image = Image.new('RGB', SIZE, 'white')\n",
    "        self.draw = ImageDraw.Draw(self.image)\n",
    "        self.canvas.bind(\"<B1-Motion>\", self.draw_digit)\n",
    "        self.master.bind('<Return>', self.predict)  # 绑定回车键到predict方法\n",
    "        self.master.bind('<Delete>', self.clear)  # 绑定删除键到clear方法\n",
    "\n",
    "    def draw_digit(self, event):\n",
    "        x1, y1 = (event.x - self.bold), (event.y - self.bold)\n",
    "        x2, y2 = (event.x + self.bold), (event.y + self.bold)\n",
    "        self.canvas.create_oval(x1, y1, x2, y2, fill='black')\n",
    "        self.draw.ellipse([x1, y1, x2, y2], fill='black')\n",
    "\n",
    "    def get_image(self):\n",
    "        return self.image\n",
    "\n",
    "    def predict(self, event=None):  # 添加event参数以满足bind的要求\n",
    "        img = self.get_image()\n",
    "        img.save('image.png')\n",
    "        result = predict(img, self.model)\n",
    "        messagebox.showinfo(\"Prediction Result\", str(result))  # 使用messagebox显示结果\n",
    "        self.clear()  # 预测后自动清空画布\n",
    "\n",
    "    def clear(self, event=None):  # 添加event参数以满足bind的要求\n",
    "        self.canvas.delete(\"all\")\n",
    "        self.image = Image.new('RGB', self.size, 'white')\n",
    "        self.draw = ImageDraw.Draw(self.image)\n",
    "\n",
    "def main():\n",
    "    root = tk.Tk()\n",
    "    dc = DigitCanvas((400,400), root, mlp, bold=10)\n",
    "    root.mainloop()\n",
    "\n",
    "if __name__ == \"__main__\":\n",
    "    main()"
   ]
  }
 ],
 "metadata": {
  "kernelspec": {
   "display_name": "torch",
   "language": "python",
   "name": "python3"
  },
  "language_info": {
   "codemirror_mode": {
    "name": "ipython",
    "version": 3
   },
   "file_extension": ".py",
   "mimetype": "text/x-python",
   "name": "python",
   "nbconvert_exporter": "python",
   "pygments_lexer": "ipython3",
   "version": "3.11.7"
  }
 },
 "nbformat": 4,
 "nbformat_minor": 2
}
