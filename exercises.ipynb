{
 "cells": [
  {
   "cell_type": "markdown",
   "metadata": {},
   "source": [
    "将元组（1，2，3）和集合{4,5,6}合并成一个列表"
   ]
  },
  {
   "cell_type": "code",
   "execution_count": 1,
   "metadata": {},
   "outputs": [
    {
     "data": {
      "text/plain": [
       "[1, 2, 3, 4, 5, 6]"
      ]
     },
     "execution_count": 1,
     "metadata": {},
     "output_type": "execute_result"
    }
   ],
   "source": [
    "t = (1, 2, 3)\n",
    "s = {4, 5, 6}\n",
    "l = list(t) + list(s)\n",
    "l"
   ]
  },
  {
   "cell_type": "markdown",
   "metadata": {},
   "source": [
    "在列表[1，2，3，4，5，6]首、尾分别添加0和7"
   ]
  },
  {
   "cell_type": "code",
   "execution_count": 2,
   "metadata": {},
   "outputs": [
    {
     "data": {
      "text/plain": [
       "[0, 1, 2, 3, 4, 5, 6, 7]"
      ]
     },
     "execution_count": 2,
     "metadata": {},
     "output_type": "execute_result"
    }
   ],
   "source": [
    "l = [1, 2, 3, 4, 5, 6]\n",
    "l.insert(0, 0)\n",
    "l.append(7)\n",
    "l"
   ]
  },
  {
   "cell_type": "markdown",
   "metadata": {},
   "source": [
    "反转列表[0，1，2，3，4，5，6，7]"
   ]
  },
  {
   "cell_type": "code",
   "execution_count": 3,
   "metadata": {},
   "outputs": [
    {
     "data": {
      "text/plain": [
       "[7, 6, 5, 4, 3, 2, 1, 0]"
      ]
     },
     "execution_count": 3,
     "metadata": {},
     "output_type": "execute_result"
    }
   ],
   "source": [
    "l = [0, 1, 2, 3, 4, 5, 6, 7]\n",
    "l.reverse()\n",
    "l"
   ]
  },
  {
   "cell_type": "markdown",
   "metadata": {},
   "source": [
    "反转列表[0，1，2，3，4，5，6，7]后给出其中元素5的序号"
   ]
  },
  {
   "cell_type": "code",
   "execution_count": 4,
   "metadata": {},
   "outputs": [
    {
     "data": {
      "text/plain": [
       "2"
      ]
     },
     "execution_count": 4,
     "metadata": {},
     "output_type": "execute_result"
    }
   ],
   "source": [
    "l = [0, 1, 2, 3, 4, 5, 6, 7]\n",
    "l.reverse()\n",
    "l.index(5)"
   ]
  },
  {
   "cell_type": "markdown",
   "metadata": {},
   "source": [
    "分别统计[True，False，0，1，2]中True，False，0，1，2的元素个数，从答案发现了什么？（True和1，False和0视为等价）"
   ]
  },
  {
   "cell_type": "code",
   "execution_count": 5,
   "metadata": {},
   "outputs": [
    {
     "name": "stdout",
     "output_type": "stream",
     "text": [
      "2\n",
      "2\n",
      "2\n",
      "2\n",
      "1\n"
     ]
    }
   ],
   "source": [
    "l = [True, False, 0, 1, 2]\n",
    "print(l.count(True))\n",
    "print(l.count(False))\n",
    "print(l.count(0))\n",
    "print(l.count(1))\n",
    "print(l.count(2))"
   ]
  },
  {
   "cell_type": "markdown",
   "metadata": {},
   "source": [
    "从列表[True，1，0，‘x’，None，‘x’，False，2，True]中删除元素‘x’"
   ]
  },
  {
   "cell_type": "code",
   "execution_count": 6,
   "metadata": {},
   "outputs": [
    {
     "data": {
      "text/plain": [
       "[True, 1, 0, None, False, 2, True]"
      ]
     },
     "execution_count": 6,
     "metadata": {},
     "output_type": "execute_result"
    }
   ],
   "source": [
    "l = [True, 1, 0, 'x', None, 'x', False, 2, True]\n",
    "while 'x' in l:\n",
    "    l.remove('x')\n",
    "l"
   ]
  },
  {
   "cell_type": "markdown",
   "metadata": {},
   "source": [
    "从列表[True，1，0，‘x’，None，‘x’，False，2，True]中删除索引号为4的元素"
   ]
  },
  {
   "cell_type": "code",
   "execution_count": 7,
   "metadata": {},
   "outputs": [
    {
     "data": {
      "text/plain": [
       "[True, 1, 0, 'x', 'x', False, 2, True]"
      ]
     },
     "execution_count": 7,
     "metadata": {},
     "output_type": "execute_result"
    }
   ],
   "source": [
    "l = [True, 1, 0, 'x', None, 'x', False, 2, True]\n",
    "del l[4]\n",
    "l"
   ]
  },
  {
   "cell_type": "markdown",
   "metadata": {},
   "source": [
    "建一个列表，删除列表中索引号为奇数（或偶数）的元素"
   ]
  },
  {
   "cell_type": "code",
   "execution_count": 8,
   "metadata": {},
   "outputs": [
    {
     "data": {
      "text/plain": [
       "[1, 3, 5, 7, 9]"
      ]
     },
     "execution_count": 8,
     "metadata": {},
     "output_type": "execute_result"
    }
   ],
   "source": [
    "l = [1, 2, 3, 4, 5, 6, 7, 8, 9]\n",
    "del l[1::2]\n",
    "l"
   ]
  },
  {
   "cell_type": "markdown",
   "metadata": {},
   "source": [
    "清空列表中所有元素"
   ]
  },
  {
   "cell_type": "code",
   "execution_count": 9,
   "metadata": {},
   "outputs": [
    {
     "data": {
      "text/plain": [
       "[]"
      ]
     },
     "execution_count": 9,
     "metadata": {},
     "output_type": "execute_result"
    }
   ],
   "source": [
    "l = [1, 2, 3, 4, 5, 6, 7, 8, 9]\n",
    "l.clear()\n",
    "l"
   ]
  },
  {
   "cell_type": "markdown",
   "metadata": {},
   "source": [
    "对列表[3，0，8，5，7]进行升序和降序排序"
   ]
  },
  {
   "cell_type": "code",
   "execution_count": 10,
   "metadata": {},
   "outputs": [
    {
     "name": "stdout",
     "output_type": "stream",
     "text": [
      "[0, 3, 5, 7, 8]\n",
      "[8, 7, 5, 3, 0]\n"
     ]
    }
   ],
   "source": [
    "l = [3, 0, 8, 5, 7]\n",
    "l.sort()\n",
    "print(l)\n",
    "l.sort(reverse=True)\n",
    "print(l)"
   ]
  },
  {
   "cell_type": "markdown",
   "metadata": {},
   "source": [
    "将列表[3，0，8，5，7]中大于5 的元素置1，其余元素置0"
   ]
  },
  {
   "cell_type": "code",
   "execution_count": 11,
   "metadata": {},
   "outputs": [
    {
     "name": "stdout",
     "output_type": "stream",
     "text": [
      "[0, 0, 1, 0, 1]\n",
      "[0, 0, 1, 0, 1]\n",
      "[0, 0, 1, 0, 1]\n",
      "[0 0 1 0 1]\n"
     ]
    }
   ],
   "source": [
    "l = [3, 0, 8, 5, 7]\n",
    "# 方法1\n",
    "for i in range(len(l)):\n",
    "    if l[i] > 5:\n",
    "        l[i] = 1\n",
    "    else:\n",
    "        l[i] = 0\n",
    "print(l)\n",
    "# 方法2\n",
    "l = [3, 0, 8, 5, 7]\n",
    "l = [1 if i > 5 else 0 for i in l]\n",
    "print(l)\n",
    "# 方法3\n",
    "l = [3, 0, 8, 5, 7]\n",
    "l = list(map(lambda x: 1 if x > 5 else 0, l))\n",
    "print(l)\n",
    "# 方法4\n",
    "l = [3, 0, 8, 5, 7]\n",
    "import numpy as np\n",
    "l = np.array(l)\n",
    "l = (l > 5).astype(int)\n",
    "print(l)"
   ]
  },
  {
   "cell_type": "markdown",
   "metadata": {},
   "source": [
    "遍历列表[‘x’，‘y’，‘z’]并打印每一个元素及其对应的索引号"
   ]
  },
  {
   "cell_type": "code",
   "execution_count": 12,
   "metadata": {},
   "outputs": [
    {
     "name": "stdout",
     "output_type": "stream",
     "text": [
      "0 x\n",
      "1 y\n",
      "2 z\n"
     ]
    }
   ],
   "source": [
    "l = ['x', 'y', 'z']\n",
    "for i, v in enumerate(l):\n",
    "    print(i, v)"
   ]
  },
  {
   "cell_type": "markdown",
   "metadata": {},
   "source": [
    "将列表[0，1，2，3，4，5，6，7，8，9]拆分成奇数组和偶数组两个列表"
   ]
  },
  {
   "cell_type": "code",
   "execution_count": 13,
   "metadata": {},
   "outputs": [
    {
     "name": "stdout",
     "output_type": "stream",
     "text": [
      "[0, 2, 4, 6, 8] [1, 3, 5, 7, 9]\n"
     ]
    }
   ],
   "source": [
    "l = [0, 1, 2, 3, 4, 5, 6, 7, 8, 9]\n",
    "l1 = l[::2]\n",
    "l2 = l[1::2]\n",
    "print(l1, l2)"
   ]
  },
  {
   "cell_type": "markdown",
   "metadata": {},
   "source": [
    "以列表形式返回字典{‘Alice’：20，‘Beth’：18，‘Cecil’，21}中所有的键"
   ]
  },
  {
   "cell_type": "code",
   "execution_count": 14,
   "metadata": {},
   "outputs": [],
   "source": [
    "d = {'Alice': 20, 'Beth': 18, 'Cecil': 21}\n",
    "l = list(d.keys())"
   ]
  },
  {
   "cell_type": "markdown",
   "metadata": {},
   "source": [
    "以列表形式返回字典{‘Alice’：20，‘Beth’：18，‘Cecil’，21}中所有的值"
   ]
  },
  {
   "cell_type": "code",
   "execution_count": 15,
   "metadata": {},
   "outputs": [],
   "source": [
    "d = {'Alice': 20, 'Beth': 18, 'Cecil': 21}\n",
    "l = list(d.values())"
   ]
  },
  {
   "cell_type": "markdown",
   "metadata": {},
   "source": [
    "向字典{‘Alice’：20，‘Beth’：18，‘Cecil’，21}中追加‘David’：19键值对，更新Cecil的值为17"
   ]
  },
  {
   "cell_type": "code",
   "execution_count": 16,
   "metadata": {},
   "outputs": [],
   "source": [
    "d = {'Alice': 20, 'Beth': 18, 'Cecil': 21}\n",
    "d['David'] = 19\n",
    "d['Cecil'] = 17"
   ]
  },
  {
   "cell_type": "markdown",
   "metadata": {},
   "source": [
    "删除字典{‘Alice’：20，‘Beth’：18，‘Cecil’，21}中Beth键"
   ]
  },
  {
   "cell_type": "code",
   "execution_count": 17,
   "metadata": {},
   "outputs": [],
   "source": [
    "d = {'Alice': 20, 'Beth': 18, 'Cecil': 21}\n",
    "del d['Beth']"
   ]
  },
  {
   "cell_type": "markdown",
   "metadata": {},
   "source": [
    "判断David和Alice是否字典{‘Alice’：20，‘Beth’：18，‘Cecil’，21}中。"
   ]
  },
  {
   "cell_type": "code",
   "execution_count": 18,
   "metadata": {},
   "outputs": [
    {
     "name": "stdout",
     "output_type": "stream",
     "text": [
      "False\n",
      "True\n"
     ]
    }
   ],
   "source": [
    "d = {'Alice': 20, 'Beth': 18, 'Cecil': 21}\n",
    "print('David' in d)\n",
    "print('Alice' in d)"
   ]
  },
  {
   "cell_type": "markdown",
   "metadata": {},
   "source": [
    "遍历字典{‘Alice’：20，‘Beth’：18，‘Cecil’，21}，打印键值对"
   ]
  },
  {
   "cell_type": "code",
   "execution_count": 19,
   "metadata": {},
   "outputs": [
    {
     "name": "stdout",
     "output_type": "stream",
     "text": [
      "Alice 20\n",
      "Beth 18\n",
      "Cecil 21\n"
     ]
    }
   ],
   "source": [
    "d = {'Alice': 20, 'Beth': 18, 'Cecil': 21}\n",
    "for k, v in d.items():\n",
    "    print(k, v)"
   ]
  },
  {
   "cell_type": "markdown",
   "metadata": {},
   "source": [
    "将二维结构[[‘a’,1],[‘b’,2]]he (‘x’,3),(‘y’,4)转成字典"
   ]
  },
  {
   "cell_type": "code",
   "execution_count": 20,
   "metadata": {},
   "outputs": [
    {
     "name": "stdout",
     "output_type": "stream",
     "text": [
      "{'a': 1, 'b': 2, 'x': 3, 'y': 4}\n"
     ]
    }
   ],
   "source": [
    "l = [['a', 1], ['b', 2], ('x', 3), ('y', 4)]\n",
    "d = dict(l)\n",
    "print(d)"
   ]
  },
  {
   "cell_type": "markdown",
   "metadata": {},
   "source": [
    "返回元组（2，5，3，2，4）中元素2的个数"
   ]
  },
  {
   "cell_type": "code",
   "execution_count": 21,
   "metadata": {},
   "outputs": [
    {
     "name": "stdout",
     "output_type": "stream",
     "text": [
      "2\n"
     ]
    }
   ],
   "source": [
    "t = (2, 5, 3, 2, 4)\n",
    "print(t.count(2))"
   ]
  },
  {
   "cell_type": "markdown",
   "metadata": {},
   "source": [
    "返回在元组（2，5，3，7）中索引号为2的位置插入元素9之后的新元组"
   ]
  },
  {
   "cell_type": "code",
   "execution_count": 22,
   "metadata": {},
   "outputs": [
    {
     "name": "stdout",
     "output_type": "stream",
     "text": [
      "(2, 5, 9, 3, 7)\n"
     ]
    }
   ],
   "source": [
    "t = (2, 5, 3, 7)\n",
    "t = t[:2] + (9,) + t[2:]\n",
    "print(t)"
   ]
  },
  {
   "cell_type": "markdown",
   "metadata": {},
   "source": [
    "删除集合{‘x’,’y’,’z’}中的元素’z’，增加元素’w’，然后清空整个集合"
   ]
  },
  {
   "cell_type": "code",
   "execution_count": 23,
   "metadata": {},
   "outputs": [
    {
     "data": {
      "text/plain": [
       "set()"
      ]
     },
     "execution_count": 23,
     "metadata": {},
     "output_type": "execute_result"
    }
   ],
   "source": [
    "s = {'x', 'y', 'z'}\n",
    "s.remove('z')\n",
    "s.add('w')\n",
    "s.clear()\n",
    "s"
   ]
  },
  {
   "cell_type": "markdown",
   "metadata": {},
   "source": [
    "返回集合{‘A’，‘D’，‘B’}中未出现在集合{‘D’，‘E’，‘C’}中的元素（差集）"
   ]
  },
  {
   "cell_type": "code",
   "execution_count": 24,
   "metadata": {},
   "outputs": [
    {
     "data": {
      "text/plain": [
       "{'A', 'B'}"
      ]
     },
     "execution_count": 24,
     "metadata": {},
     "output_type": "execute_result"
    }
   ],
   "source": [
    "s1 = {'A', 'D', 'B'}\n",
    "s2 = {'D', 'E', 'C'}\n",
    "s = s1 - s2\n",
    "s"
   ]
  },
  {
   "cell_type": "markdown",
   "metadata": {},
   "source": [
    "返回两个集合{‘A’，‘D’，‘B’}和{‘D’，‘E’，‘C’}的并集"
   ]
  },
  {
   "cell_type": "code",
   "execution_count": 25,
   "metadata": {},
   "outputs": [
    {
     "data": {
      "text/plain": [
       "{'A', 'B', 'C', 'D', 'E'}"
      ]
     },
     "execution_count": 25,
     "metadata": {},
     "output_type": "execute_result"
    }
   ],
   "source": [
    "s1 = {'A', 'D', 'B'}\n",
    "s2 = {'D', 'E', 'C'}\n",
    "s = s1 | s2\n",
    "s"
   ]
  },
  {
   "cell_type": "markdown",
   "metadata": {},
   "source": [
    "返回两个集合{‘A’，‘D’，‘B’}和{‘D’，‘E’，‘C’}中未重复的元素的集合"
   ]
  },
  {
   "cell_type": "code",
   "execution_count": 26,
   "metadata": {},
   "outputs": [
    {
     "data": {
      "text/plain": [
       "{'A', 'B', 'C', 'E'}"
      ]
     },
     "execution_count": 26,
     "metadata": {},
     "output_type": "execute_result"
    }
   ],
   "source": [
    "s1 = {'A', 'D', 'B'}\n",
    "s2 = {'D', 'E', 'C'}\n",
    "s = s1 ^ s2\n",
    "s"
   ]
  },
  {
   "cell_type": "markdown",
   "metadata": {},
   "source": [
    "判断两个集合{‘A’，‘D’，‘B’}和{‘D’，‘E’，‘C’}中是否有重复元素"
   ]
  },
  {
   "cell_type": "code",
   "execution_count": 27,
   "metadata": {},
   "outputs": [
    {
     "data": {
      "text/plain": [
       "{'D'}"
      ]
     },
     "execution_count": 27,
     "metadata": {},
     "output_type": "execute_result"
    }
   ],
   "source": [
    "s1 = {'A', 'D', 'B'}\n",
    "s2 = {'D', 'E', 'C'}\n",
    "s = s1 & s2\n",
    "s"
   ]
  },
  {
   "cell_type": "markdown",
   "metadata": {},
   "source": [
    "返回字符串‘abCdEfg’的全部大写、全部小写和大小互换形式"
   ]
  },
  {
   "cell_type": "code",
   "execution_count": 28,
   "metadata": {},
   "outputs": [
    {
     "name": "stdout",
     "output_type": "stream",
     "text": [
      "ABCDEFG\n",
      "abcdefg\n",
      "ABcDeFG\n"
     ]
    }
   ],
   "source": [
    "s = 'abCdEfg'\n",
    "print(s.upper())\n",
    "print(s.lower())\n",
    "print(s.swapcase())"
   ]
  },
  {
   "cell_type": "markdown",
   "metadata": {},
   "source": [
    "判断字符串‘abCdEfg’首字母是否大写，字母是否全部小写，字母是否全部大写"
   ]
  },
  {
   "cell_type": "code",
   "execution_count": 29,
   "metadata": {},
   "outputs": [
    {
     "name": "stdout",
     "output_type": "stream",
     "text": [
      "False\n",
      "False\n",
      "False\n"
     ]
    }
   ],
   "source": [
    "s = 'abCdEfg'\n",
    "print(s.istitle())\n",
    "print(s.islower())\n",
    "print(s.isupper())"
   ]
  },
  {
   "cell_type": "markdown",
   "metadata": {},
   "source": [
    "返回字符串‘this is python’首字母大写以及字符串内每个单词首字母大写的形式"
   ]
  },
  {
   "cell_type": "code",
   "execution_count": 30,
   "metadata": {},
   "outputs": [
    {
     "name": "stdout",
     "output_type": "stream",
     "text": [
      "This Is Python\n",
      "This is python\n"
     ]
    }
   ],
   "source": [
    "s = 'this is python'\n",
    "print(s.title())\n",
    "print(s.capitalize())"
   ]
  },
  {
   "cell_type": "markdown",
   "metadata": {},
   "source": [
    "返回字符串‘this is python’中‘is’的出现次数"
   ]
  },
  {
   "cell_type": "code",
   "execution_count": 31,
   "metadata": {},
   "outputs": [
    {
     "name": "stdout",
     "output_type": "stream",
     "text": [
      "2\n"
     ]
    }
   ],
   "source": [
    "s = 'this is python'\n",
    "print(s.count('is'))"
   ]
  },
  {
   "cell_type": "markdown",
   "metadata": {},
   "source": [
    "将字符串‘this is python’中的‘is’替换成are‘"
   ]
  },
  {
   "cell_type": "code",
   "execution_count": 32,
   "metadata": {},
   "outputs": [
    {
     "name": "stdout",
     "output_type": "stream",
     "text": [
      "thare are python\n"
     ]
    }
   ],
   "source": [
    "s = 'this is python'\n",
    "s = s.replace('is', 'are')\n",
    "print(s)"
   ]
  }
 ],
 "metadata": {
  "kernelspec": {
   "display_name": "Python 3",
   "language": "python",
   "name": "python3"
  },
  "language_info": {
   "codemirror_mode": {
    "name": "ipython",
    "version": 3
   },
   "file_extension": ".py",
   "mimetype": "text/x-python",
   "name": "python",
   "nbconvert_exporter": "python",
   "pygments_lexer": "ipython3",
   "version": "3.11.5"
  }
 },
 "nbformat": 4,
 "nbformat_minor": 2
}
